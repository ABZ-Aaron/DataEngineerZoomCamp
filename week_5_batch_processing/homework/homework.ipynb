{
 "cells": [
  {
   "cell_type": "markdown",
   "metadata": {},
   "source": [
    "Import relevant libraries"
   ]
  },
  {
   "cell_type": "code",
   "execution_count": 7,
   "metadata": {},
   "outputs": [],
   "source": [
    "import pyspark\n",
    "from pyspark.sql import SparkSession, types"
   ]
  },
  {
   "cell_type": "markdown",
   "metadata": {},
   "source": [
    "Let's create a Spark session called 'homework'. A Spark session is a unified entry point of a spark application. It provides a way to interact with various spark's functionality."
   ]
  },
  {
   "cell_type": "code",
   "execution_count": 2,
   "metadata": {},
   "outputs": [
    {
     "name": "stderr",
     "output_type": "stream",
     "text": [
      "Using Spark's default log4j profile: org/apache/spark/log4j-defaults.properties\n",
      "Setting default log level to \"WARN\".\n",
      "To adjust logging level use sc.setLogLevel(newLevel). For SparkR, use setLogLevel(newLevel).\n",
      "22/03/05 14:52:40 WARN NativeCodeLoader: Unable to load native-hadoop library for your platform... using builtin-java classes where applicable\n"
     ]
    }
   ],
   "source": [
    "spark = SparkSession.builder.master(\"local[*]\").appName('homework').getOrCreate()"
   ]
  },
  {
   "cell_type": "markdown",
   "metadata": {},
   "source": [
    "Let's now download the dataset we'll be working with"
   ]
  },
  {
   "cell_type": "code",
   "execution_count": 3,
   "metadata": {},
   "outputs": [
    {
     "name": "stdout",
     "output_type": "stream",
     "text": [
      "--2022-03-05 14:53:31--  https://nyc-tlc.s3.amazonaws.com/trip+data/fhvhv_tripdata_2021-02.csv\n",
      "Resolving nyc-tlc.s3.amazonaws.com (nyc-tlc.s3.amazonaws.com)... 52.216.89.11\n",
      "Connecting to nyc-tlc.s3.amazonaws.com (nyc-tlc.s3.amazonaws.com)|52.216.89.11|:443... connected.\n",
      "HTTP request sent, awaiting response... 200 OK\n",
      "Length: 733822658 (700M) [text/csv]\n",
      "Saving to: ‘fhvhv_tripdata_2021-02.csv’\n",
      "\n",
      "fhvhv_tripdata_2021 100%[===================>] 699.83M  5.81MB/s    in 2m 3s   \n",
      "\n",
      "2022-03-05 14:55:34 (5.69 MB/s) - ‘fhvhv_tripdata_2021-02.csv’ saved [733822658/733822658]\n",
      "\n"
     ]
    }
   ],
   "source": [
    "!wget https://nyc-tlc.s3.amazonaws.com/trip+data/fhvhv_tripdata_2021-02.csv"
   ]
  },
  {
   "cell_type": "markdown",
   "metadata": {},
   "source": [
    "Next up, we'll read out data into a spark dataframe"
   ]
  },
  {
   "cell_type": "code",
   "execution_count": 4,
   "metadata": {},
   "outputs": [
    {
     "name": "stderr",
     "output_type": "stream",
     "text": [
      "                                                                                \r"
     ]
    }
   ],
   "source": [
    "df = spark.read.option(\"header\", \"true\").csv(\"fhvhv_tripdata_2021-02.csv\")"
   ]
  },
  {
   "cell_type": "code",
   "execution_count": 5,
   "metadata": {},
   "outputs": [
    {
     "data": {
      "text/plain": [
       "StructType(List(StructField(hvfhs_license_num,StringType,true),StructField(dispatching_base_num,StringType,true),StructField(pickup_datetime,StringType,true),StructField(dropoff_datetime,StringType,true),StructField(PULocationID,StringType,true),StructField(DOLocationID,StringType,true),StructField(SR_Flag,StringType,true)))"
      ]
     },
     "execution_count": 5,
     "metadata": {},
     "output_type": "execute_result"
    }
   ],
   "source": [
    "df.schema"
   ]
  },
  {
   "cell_type": "markdown",
   "metadata": {},
   "source": [
    "Let's now create a new schema, and re-create our dataframe, essentially changing the datatypes. Where we've written `True` - this means that the field can be nullable."
   ]
  },
  {
   "cell_type": "code",
   "execution_count": 10,
   "metadata": {},
   "outputs": [],
   "source": [
    "schema = types.StructType([\n",
    "         types.StructField('hvfhs_license_num', types.StringType(), True),\n",
    "         types.StructField('dispatching_base_num', types.StringType(), True),\n",
    "         types.StructField('pickup_datetime', types.TimestampType(), True),\n",
    "         types.StructField('dropoff_datetime', types.TimestampType(), True),\n",
    "         types.StructField('PULocationID', types.IntegerType(), True),\n",
    "         types.StructField('DOLocationID', types.IntegerType(), True),\n",
    "         types.StructField('SR_Flag', types.StringType(), True)\n",
    "])"
   ]
  },
  {
   "cell_type": "code",
   "execution_count": 11,
   "metadata": {},
   "outputs": [],
   "source": [
    "df = spark.read.option(\"header\", \"true\").schema(schema).csv(\"fhvhv_tripdata_2021-02.csv\")"
   ]
  },
  {
   "cell_type": "markdown",
   "metadata": {},
   "source": [
    "Now let's create a partitioned dataframe, with 24 partitions"
   ]
  },
  {
   "cell_type": "code",
   "execution_count": 12,
   "metadata": {},
   "outputs": [],
   "source": [
    "df = df.repartition(24)"
   ]
  },
  {
   "cell_type": "markdown",
   "metadata": {},
   "source": [
    "Now let's write these partitions out to parquet format"
   ]
  },
  {
   "cell_type": "code",
   "execution_count": 13,
   "metadata": {},
   "outputs": [
    {
     "name": "stderr",
     "output_type": "stream",
     "text": [
      "22/03/05 15:07:51 WARN MemoryManager: Total allocation exceeds 95.00% (917,949,633 bytes) of heap memory\n",
      "Scaling row group sizes to 97.70% for 7 writers\n",
      "22/03/05 15:07:51 WARN MemoryManager: Total allocation exceeds 95.00% (917,949,633 bytes) of heap memory\n",
      "Scaling row group sizes to 85.49% for 8 writers\n",
      "22/03/05 15:07:51 WARN MemoryManager: Total allocation exceeds 95.00% (917,949,633 bytes) of heap memory\n",
      "Scaling row group sizes to 75.99% for 9 writers\n",
      "22/03/05 15:07:51 WARN MemoryManager: Total allocation exceeds 95.00% (917,949,633 bytes) of heap memory\n",
      "Scaling row group sizes to 68.39% for 10 writers\n",
      "22/03/05 15:07:56 WARN MemoryManager: Total allocation exceeds 95.00% (917,949,633 bytes) of heap memory\n",
      "Scaling row group sizes to 75.99% for 9 writers\n",
      "22/03/05 15:07:56 WARN MemoryManager: Total allocation exceeds 95.00% (917,949,633 bytes) of heap memory\n",
      "Scaling row group sizes to 85.49% for 8 writers\n",
      "22/03/05 15:07:56 WARN MemoryManager: Total allocation exceeds 95.00% (917,949,633 bytes) of heap memory\n",
      "Scaling row group sizes to 97.70% for 7 writers\n",
      "22/03/05 15:07:57 WARN MemoryManager: Total allocation exceeds 95.00% (917,949,633 bytes) of heap memory\n",
      "Scaling row group sizes to 97.70% for 7 writers\n",
      "22/03/05 15:07:57 WARN MemoryManager: Total allocation exceeds 95.00% (917,949,633 bytes) of heap memory\n",
      "Scaling row group sizes to 85.49% for 8 writers\n",
      "22/03/05 15:07:57 WARN MemoryManager: Total allocation exceeds 95.00% (917,949,633 bytes) of heap memory\n",
      "Scaling row group sizes to 75.99% for 9 writers\n",
      "22/03/05 15:07:57 WARN MemoryManager: Total allocation exceeds 95.00% (917,949,633 bytes) of heap memory\n",
      "Scaling row group sizes to 68.39% for 10 writers\n",
      "22/03/05 15:07:59 WARN MemoryManager: Total allocation exceeds 95.00% (917,949,633 bytes) of heap memory\n",
      "Scaling row group sizes to 75.99% for 9 writers\n",
      "22/03/05 15:07:59 WARN MemoryManager: Total allocation exceeds 95.00% (917,949,633 bytes) of heap memory\n",
      "Scaling row group sizes to 85.49% for 8 writers\n",
      "22/03/05 15:07:59 WARN MemoryManager: Total allocation exceeds 95.00% (917,949,633 bytes) of heap memory\n",
      "Scaling row group sizes to 97.70% for 7 writers\n",
      "                                                                                \r"
     ]
    }
   ],
   "source": [
    "df.write.parquet('fhvhv/2021/02/')"
   ]
  },
  {
   "cell_type": "markdown",
   "metadata": {},
   "source": [
    "Now let's read these parquet files back into a spark dataframe"
   ]
  },
  {
   "cell_type": "code",
   "execution_count": 14,
   "metadata": {},
   "outputs": [],
   "source": [
    "df = spark.read.parquet('fhvhv/2021/02/')"
   ]
  },
  {
   "cell_type": "code",
   "execution_count": 74,
   "metadata": {},
   "outputs": [
    {
     "data": {
      "text/plain": [
       "11613942"
      ]
     },
     "execution_count": 74,
     "metadata": {},
     "output_type": "execute_result"
    }
   ],
   "source": [
    "df.count()"
   ]
  },
  {
   "cell_type": "code",
   "execution_count": 16,
   "metadata": {},
   "outputs": [
    {
     "name": "stdout",
     "output_type": "stream",
     "text": [
      "root\n",
      " |-- hvfhs_license_num: string (nullable = true)\n",
      " |-- dispatching_base_num: string (nullable = true)\n",
      " |-- pickup_datetime: timestamp (nullable = true)\n",
      " |-- dropoff_datetime: timestamp (nullable = true)\n",
      " |-- PULocationID: integer (nullable = true)\n",
      " |-- DOLocationID: integer (nullable = true)\n",
      " |-- SR_Flag: string (nullable = true)\n",
      "\n"
     ]
    }
   ],
   "source": [
    "df.printSchema()"
   ]
  },
  {
   "cell_type": "markdown",
   "metadata": {},
   "source": [
    "What's the size of these folders?"
   ]
  },
  {
   "cell_type": "code",
   "execution_count": 18,
   "metadata": {},
   "outputs": [
    {
     "name": "stdout",
     "output_type": "stream",
     "text": [
      "  0B\t./.ipynb_checkpoints\n",
      "218M\t./fhvhv/2021/02\n",
      "218M\t./fhvhv/2021\n",
      "218M\t./fhvhv\n",
      "923M\t.\n"
     ]
    }
   ],
   "source": [
    "!du -h"
   ]
  },
  {
   "cell_type": "code",
   "execution_count": 19,
   "metadata": {},
   "outputs": [
    {
     "data": {
      "text/plain": [
       "Row(hvfhs_license_num='HV0005', dispatching_base_num='B02510', pickup_datetime=datetime.datetime(2021, 2, 2, 22, 6, 25), dropoff_datetime=datetime.datetime(2021, 2, 2, 22, 13, 17), PULocationID=126, DOLocationID=147, SR_Flag=None)"
      ]
     },
     "execution_count": 19,
     "metadata": {},
     "output_type": "execute_result"
    }
   ],
   "source": [
    "df.head()"
   ]
  },
  {
   "cell_type": "markdown",
   "metadata": {},
   "source": [
    "How many records are there for `2021-02-15`?"
   ]
  },
  {
   "cell_type": "code",
   "execution_count": 83,
   "metadata": {},
   "outputs": [
    {
     "name": "stderr",
     "output_type": "stream",
     "text": [
      "                                                                                \r"
     ]
    },
    {
     "data": {
      "text/plain": [
       "367170"
      ]
     },
     "execution_count": 83,
     "metadata": {},
     "output_type": "execute_result"
    }
   ],
   "source": [
    "df.filter(df['pickup_datetime'].like('%2021-02-15%')).count()"
   ]
  },
  {
   "cell_type": "markdown",
   "metadata": {},
   "source": [
    "Let's register table as temporary table and run some SQL queries on it"
   ]
  },
  {
   "cell_type": "code",
   "execution_count": 84,
   "metadata": {},
   "outputs": [
    {
     "name": "stderr",
     "output_type": "stream",
     "text": [
      "/Users/aaronwright/.pyenv/versions/3.9.1/lib/python3.9/site-packages/pyspark/sql/dataframe.py:138: FutureWarning: Deprecated in 2.0, use createOrReplaceTempView instead.\n",
      "  warnings.warn(\n"
     ]
    }
   ],
   "source": [
    "df.registerTempTable('temp_table')"
   ]
  },
  {
   "cell_type": "markdown",
   "metadata": {},
   "source": [
    "What day had the longest trip?"
   ]
  },
  {
   "cell_type": "code",
   "execution_count": 109,
   "metadata": {},
   "outputs": [],
   "source": [
    "df_longest_trip = spark.sql(\"\"\"\n",
    "    SELECT pickup_datetime, (dropoff_datetime - pickup_datetime)\n",
    "    FROM temp_table\n",
    "    GROUP BY 1, 2\n",
    "    ORDER BY 2 DESC\n",
    "    LIMIT 1\n",
    "\n",
    "\"\"\")"
   ]
  },
  {
   "cell_type": "code",
   "execution_count": 110,
   "metadata": {},
   "outputs": [
    {
     "name": "stderr",
     "output_type": "stream",
     "text": [
      "[Stage 83:>                                                       (0 + 10) / 11]\r"
     ]
    },
    {
     "name": "stdout",
     "output_type": "stream",
     "text": [
      "+-------------------+------------------------------------+\n",
      "|    pickup_datetime|(dropoff_datetime - pickup_datetime)|\n",
      "+-------------------+------------------------------------+\n",
      "|2021-02-11 13:40:44|                INTERVAL '0 20:59...|\n",
      "+-------------------+------------------------------------+\n",
      "\n"
     ]
    },
    {
     "name": "stderr",
     "output_type": "stream",
     "text": [
      "                                                                                \r"
     ]
    }
   ],
   "source": [
    "df_longest_trip.show()"
   ]
  },
  {
   "cell_type": "markdown",
   "metadata": {},
   "source": [
    "What's the most frequent `dispatching_base_num`?"
   ]
  },
  {
   "cell_type": "code",
   "execution_count": 115,
   "metadata": {},
   "outputs": [],
   "source": [
    "df_base_num = spark.sql(\"\"\"\n",
    "    SELECT dispatching_base_num, COUNT(*)\n",
    "    FROM temp_table\n",
    "    GROUP BY dispatching_base_num\n",
    "\"\"\")"
   ]
  },
  {
   "cell_type": "code",
   "execution_count": 116,
   "metadata": {},
   "outputs": [
    {
     "name": "stderr",
     "output_type": "stream",
     "text": [
      "[Stage 89:==============================================>         (10 + 2) / 12]\r"
     ]
    },
    {
     "name": "stdout",
     "output_type": "stream",
     "text": [
      "+--------------------+--------+\n",
      "|dispatching_base_num|count(1)|\n",
      "+--------------------+--------+\n",
      "|              B02876|  215693|\n",
      "|              B03136|    1741|\n",
      "|              B02877|  198938|\n",
      "|              B02869|  429720|\n",
      "|              B02883|  251617|\n",
      "|              B02835|  189031|\n",
      "|              B02884|  244963|\n",
      "|              B02880|  115716|\n",
      "|              B02878|  305185|\n",
      "|              B02836|  128978|\n",
      "|              B02872|  882689|\n",
      "|              B02512|   41043|\n",
      "|              B02867|  200530|\n",
      "|              B02866|  311089|\n",
      "|              B02871|  312364|\n",
      "|              B02889|  138762|\n",
      "|              B02844|    3502|\n",
      "|              B02510| 3233664|\n",
      "|              B02888|  169167|\n",
      "|              B02682|  303255|\n",
      "+--------------------+--------+\n",
      "only showing top 20 rows\n",
      "\n"
     ]
    },
    {
     "name": "stderr",
     "output_type": "stream",
     "text": [
      "                                                                                \r"
     ]
    }
   ],
   "source": [
    "df_base_num.show()"
   ]
  },
  {
   "cell_type": "markdown",
   "metadata": {},
   "source": [
    "What's the most common pickup / dropoff pair?"
   ]
  },
  {
   "cell_type": "code",
   "execution_count": 167,
   "metadata": {},
   "outputs": [],
   "source": [
    "df_location_pair = spark.sql(\"\"\"\n",
    "    SELECT CONCAT(PULocationID, ' / ', PULocationID), COUNT(*)\n",
    "    FROM temp_table\n",
    "    GROUP BY CONCAT(PULocationID, ' / ', PULocationID)\n",
    "    ORDER BY 2 DESC\n",
    "\"\"\")"
   ]
  },
  {
   "cell_type": "code",
   "execution_count": 168,
   "metadata": {},
   "outputs": [
    {
     "name": "stderr",
     "output_type": "stream",
     "text": [
      "[Stage 118:=============================================>         (10 + 2) / 12]\r"
     ]
    },
    {
     "name": "stdout",
     "output_type": "stream",
     "text": [
      "+---------------------------------------+--------+\n",
      "|concat(PULocationID,  / , PULocationID)|count(1)|\n",
      "+---------------------------------------+--------+\n",
      "|61 / 61                                |203777  |\n",
      "|76 / 76                                |166959  |\n",
      "|37 / 37                                |140636  |\n",
      "|79 / 79                                |137901  |\n",
      "|42 / 42                                |137246  |\n",
      "|17 / 17                                |125394  |\n",
      "|225 / 225                              |120026  |\n",
      "|39 / 39                                |117751  |\n",
      "|188 / 188                              |117734  |\n",
      "|89 / 89                                |117092  |\n",
      "|244 / 244                              |115590  |\n",
      "|7 / 7                                  |110787  |\n",
      "|231 / 231                              |109074  |\n",
      "|74 / 74                                |103440  |\n",
      "|181 / 181                              |103267  |\n",
      "|35 / 35                                |103059  |\n",
      "|234 / 234                              |96469   |\n",
      "|170 / 170                              |94307   |\n",
      "|249 / 249                              |93355   |\n",
      "|75 / 75                                |91517   |\n",
      "|129 / 129                              |91477   |\n",
      "|48 / 48                                |91155   |\n",
      "|82 / 82                                |89444   |\n",
      "|36 / 36                                |89250   |\n",
      "|26 / 26                                |88673   |\n",
      "|41 / 41                                |88021   |\n",
      "|168 / 168                              |87634   |\n",
      "|68 / 68                                |87424   |\n",
      "|255 / 255                              |86353   |\n",
      "|256 / 256                              |85690   |\n",
      "|112 / 112                              |85419   |\n",
      "|72 / 72                                |84563   |\n",
      "|236 / 236                              |83421   |\n",
      "|237 / 237                              |82988   |\n",
      "|132 / 132                              |82506   |\n",
      "|80 / 80                                |80821   |\n",
      "|246 / 246                              |80665   |\n",
      "|97 / 97                                |79854   |\n",
      "|107 / 107                              |79068   |\n",
      "|130 / 130                              |79065   |\n",
      "|91 / 91                                |78616   |\n",
      "|198 / 198                              |77911   |\n",
      "|213 / 213                              |76899   |\n",
      "|226 / 226                              |76156   |\n",
      "|148 / 148                              |76137   |\n",
      "|161 / 161                              |75919   |\n",
      "|243 / 243                              |75917   |\n",
      "|169 / 169                              |75696   |\n",
      "|69 / 69                                |75635   |\n",
      "|137 / 137                              |75554   |\n",
      "|141 / 141                              |75147   |\n",
      "|140 / 140                              |74888   |\n",
      "|164 / 164                              |74227   |\n",
      "|49 / 49                                |73528   |\n",
      "|254 / 254                              |72305   |\n",
      "|18 / 18                                |72229   |\n",
      "|95 / 95                                |71740   |\n",
      "|145 / 145                              |70994   |\n",
      "|239 / 239                              |70711   |\n",
      "|159 / 159                              |70529   |\n",
      "|247 / 247                              |69946   |\n",
      "|216 / 216                              |69747   |\n",
      "|90 / 90                                |69115   |\n",
      "|235 / 235                              |69103   |\n",
      "|14 / 14                                |68985   |\n",
      "|177 / 177                              |68651   |\n",
      "|71 / 71                                |68454   |\n",
      "|238 / 238                              |67191   |\n",
      "|263 / 263                              |66530   |\n",
      "|144 / 144                              |66220   |\n",
      "|78 / 78                                |66183   |\n",
      "|142 / 142                              |65306   |\n",
      "|116 / 116                              |63825   |\n",
      "|228 / 228                              |63203   |\n",
      "|229 / 229                              |62301   |\n",
      "|87 / 87                                |62249   |\n",
      "|174 / 174                              |61922   |\n",
      "|25 / 25                                |61303   |\n",
      "|167 / 167                              |61257   |\n",
      "|230 / 230                              |60518   |\n",
      "|162 / 162                              |60415   |\n",
      "|50 / 50                                |60404   |\n",
      "|233 / 233                              |59962   |\n",
      "|138 / 138                              |59876   |\n",
      "|113 / 113                              |59359   |\n",
      "|143 / 143                              |58977   |\n",
      "|241 / 241                              |58292   |\n",
      "|205 / 205                              |57038   |\n",
      "|211 / 211                              |56632   |\n",
      "|47 / 47                                |55536   |\n",
      "|242 / 242                              |55436   |\n",
      "|62 / 62                                |55401   |\n",
      "|232 / 232                              |55226   |\n",
      "|223 / 223                              |54729   |\n",
      "|186 / 186                              |54095   |\n",
      "|197 / 197                              |53723   |\n",
      "|163 / 163                              |53545   |\n",
      "|119 / 119                              |52877   |\n",
      "|114 / 114                              |52564   |\n",
      "|77 / 77                                |50198   |\n",
      "+---------------------------------------+--------+\n",
      "only showing top 100 rows\n",
      "\n"
     ]
    },
    {
     "name": "stderr",
     "output_type": "stream",
     "text": [
      "                                                                                \r"
     ]
    }
   ],
   "source": [
    "df_location_pair.show(100, False)"
   ]
  },
  {
   "cell_type": "markdown",
   "metadata": {},
   "source": [
    "We actually want to know the names of the locations. For this we'll need to download a new dataset and perform a join"
   ]
  },
  {
   "cell_type": "code",
   "execution_count": 169,
   "metadata": {},
   "outputs": [
    {
     "name": "stdout",
     "output_type": "stream",
     "text": [
      "--2022-03-05 16:51:20--  https://s3.amazonaws.com/nyc-tlc/misc/taxi+_zone_lookup.csv\n",
      "Resolving s3.amazonaws.com (s3.amazonaws.com)... 52.217.166.48\n",
      "Connecting to s3.amazonaws.com (s3.amazonaws.com)|52.217.166.48|:443... connected.\n",
      "HTTP request sent, awaiting response... 200 OK\n",
      "Length: 12322 (12K) [application/octet-stream]\n",
      "Saving to: ‘taxi+_zone_lookup.csv’\n",
      "\n",
      "taxi+_zone_lookup.c 100%[===================>]  12.03K  --.-KB/s    in 0s      \n",
      "\n",
      "2022-03-05 16:51:21 (45.9 MB/s) - ‘taxi+_zone_lookup.csv’ saved [12322/12322]\n",
      "\n"
     ]
    }
   ],
   "source": [
    "! wget 'https://s3.amazonaws.com/nyc-tlc/misc/taxi+_zone_lookup.csv'"
   ]
  },
  {
   "cell_type": "code",
   "execution_count": 170,
   "metadata": {},
   "outputs": [],
   "source": [
    "df_lookup = spark.read.option(\"header\", \"true\").csv(\"taxi+_zone_lookup.csv\")"
   ]
  },
  {
   "cell_type": "code",
   "execution_count": 173,
   "metadata": {},
   "outputs": [
    {
     "data": {
      "text/plain": [
       "StructType(List(StructField(LocationID,StringType,true),StructField(Borough,StringType,true),StructField(Zone,StringType,true),StructField(service_zone,StringType,true)))"
      ]
     },
     "execution_count": 173,
     "metadata": {},
     "output_type": "execute_result"
    }
   ],
   "source": [
    "df_lookup.schema"
   ]
  },
  {
   "cell_type": "code",
   "execution_count": 174,
   "metadata": {},
   "outputs": [],
   "source": [
    "lookup_schema = types.StructType([\n",
    "    types.StructField('LocationID', types.IntegerType(), True),\n",
    "    types.StructField('Borough', types.StringType(), True),\n",
    "    types.StructField('Zone', types.StringType(), True),\n",
    "    types.StructField('service_zone', types.StringType(), True)\n",
    "])"
   ]
  },
  {
   "cell_type": "code",
   "execution_count": 175,
   "metadata": {},
   "outputs": [],
   "source": [
    "df_lookup = spark.read.option(\"header\", \"true\").schema(lookup_schema).csv(\"taxi+_zone_lookup.csv\")"
   ]
  },
  {
   "cell_type": "code",
   "execution_count": 176,
   "metadata": {},
   "outputs": [
    {
     "name": "stderr",
     "output_type": "stream",
     "text": [
      "                                                                                \r"
     ]
    }
   ],
   "source": [
    "df_lookup.write.parquet('fhvhv/lookup/')"
   ]
  },
  {
   "cell_type": "code",
   "execution_count": 177,
   "metadata": {},
   "outputs": [],
   "source": [
    "df_lookup = spark.read.parquet('fhvhv/lookup/')"
   ]
  },
  {
   "cell_type": "code",
   "execution_count": 178,
   "metadata": {},
   "outputs": [
    {
     "name": "stdout",
     "output_type": "stream",
     "text": [
      "+----------+-------------+--------------------+------------+\n",
      "|LocationID|      Borough|                Zone|service_zone|\n",
      "+----------+-------------+--------------------+------------+\n",
      "|         1|          EWR|      Newark Airport|         EWR|\n",
      "|         2|       Queens|         Jamaica Bay|   Boro Zone|\n",
      "|         3|        Bronx|Allerton/Pelham G...|   Boro Zone|\n",
      "|         4|    Manhattan|       Alphabet City| Yellow Zone|\n",
      "|         5|Staten Island|       Arden Heights|   Boro Zone|\n",
      "|         6|Staten Island|Arrochar/Fort Wad...|   Boro Zone|\n",
      "|         7|       Queens|             Astoria|   Boro Zone|\n",
      "|         8|       Queens|        Astoria Park|   Boro Zone|\n",
      "|         9|       Queens|          Auburndale|   Boro Zone|\n",
      "|        10|       Queens|        Baisley Park|   Boro Zone|\n",
      "|        11|     Brooklyn|          Bath Beach|   Boro Zone|\n",
      "|        12|    Manhattan|        Battery Park| Yellow Zone|\n",
      "|        13|    Manhattan|   Battery Park City| Yellow Zone|\n",
      "|        14|     Brooklyn|           Bay Ridge|   Boro Zone|\n",
      "|        15|       Queens|Bay Terrace/Fort ...|   Boro Zone|\n",
      "|        16|       Queens|             Bayside|   Boro Zone|\n",
      "|        17|     Brooklyn|             Bedford|   Boro Zone|\n",
      "|        18|        Bronx|        Bedford Park|   Boro Zone|\n",
      "|        19|       Queens|           Bellerose|   Boro Zone|\n",
      "|        20|        Bronx|             Belmont|   Boro Zone|\n",
      "+----------+-------------+--------------------+------------+\n",
      "only showing top 20 rows\n",
      "\n"
     ]
    }
   ],
   "source": [
    "df_lookup.show()"
   ]
  },
  {
   "cell_type": "code",
   "execution_count": 179,
   "metadata": {},
   "outputs": [
    {
     "data": {
      "text/plain": [
       "StructType(List(StructField(LocationID,IntegerType,true),StructField(Borough,StringType,true),StructField(Zone,StringType,true),StructField(service_zone,StringType,true)))"
      ]
     },
     "execution_count": 179,
     "metadata": {},
     "output_type": "execute_result"
    }
   ],
   "source": [
    "df_lookup.schema"
   ]
  },
  {
   "cell_type": "code",
   "execution_count": 183,
   "metadata": {},
   "outputs": [
    {
     "name": "stderr",
     "output_type": "stream",
     "text": [
      "/Users/aaronwright/.pyenv/versions/3.9.1/lib/python3.9/site-packages/pyspark/sql/dataframe.py:138: FutureWarning: Deprecated in 2.0, use createOrReplaceTempView instead.\n",
      "  warnings.warn(\n"
     ]
    }
   ],
   "source": [
    "df_lookup.registerTempTable('temp_table_lookup')"
   ]
  },
  {
   "cell_type": "code",
   "execution_count": 207,
   "metadata": {},
   "outputs": [],
   "source": [
    "joined = spark.sql(\"\"\"\n",
    "    SELECT CONCAT(pu.Zone, ' / ', do.Zone), COUNT(*)\n",
    "    FROM temp_table tt\n",
    "    LEFT JOIN temp_table_lookup pu ON pu.LocationID = tt.PULocationID\n",
    "    LEFT JOIN temp_table_lookup do ON do.LocationID = tt.DOLocationID\n",
    "    GROUP BY CONCAT(pu.Zone, ' / ', do.Zone)\n",
    "    ORDER BY 2 DESC\n",
    "\"\"\")"
   ]
  },
  {
   "cell_type": "code",
   "execution_count": 208,
   "metadata": {},
   "outputs": [
    {
     "name": "stderr",
     "output_type": "stream",
     "text": [
      "[Stage 163:=============================================>         (10 + 2) / 12]\r"
     ]
    },
    {
     "name": "stdout",
     "output_type": "stream",
     "text": [
      "+-----------------------------------------------------------+--------+\n",
      "|concat(Zone,  / , Zone)                                    |count(1)|\n",
      "+-----------------------------------------------------------+--------+\n",
      "|East New York / East New York                              |45041   |\n",
      "|Borough Park / Borough Park                                |37329   |\n",
      "|Canarsie / Canarsie                                        |28026   |\n",
      "|Crown Heights North / Crown Heights North                  |25976   |\n",
      "|Bay Ridge / Bay Ridge                                      |17934   |\n",
      "|Astoria / Astoria                                          |14688   |\n",
      "|Jackson Heights / Jackson Heights                          |14688   |\n",
      "|Central Harlem North / Central Harlem North                |14481   |\n",
      "|Bushwick South / Bushwick South                            |14424   |\n",
      "|Flatbush/Ditmas Park / Flatbush/Ditmas Park                |13976   |\n",
      "|South Ozone Park / South Ozone Park                        |13716   |\n",
      "|Brownsville / Brownsville                                  |12829   |\n",
      "|JFK Airport / NA                                           |12542   |\n",
      "|Prospect-Lefferts Gardens / Crown Heights North            |11814   |\n",
      "|Forest Hills / Forest Hills                                |11548   |\n",
      "|Bushwick North / Bushwick South                            |11491   |\n",
      "|Bushwick South / Bushwick North                            |11487   |\n",
      "|Crown Heights North / Prospect-Lefferts Gardens            |11462   |\n",
      "|Crown Heights North / Stuyvesant Heights                   |11342   |\n",
      "|Prospect-Lefferts Gardens / Prospect-Lefferts Gardens      |11308   |\n",
      "|Stuyvesant Heights / Crown Heights North                   |11293   |\n",
      "|Brownsville / East New York                                |11244   |\n",
      "|Bedford / Bedford                                          |11021   |\n",
      "|Canarsie / East New York                                   |10688   |\n",
      "|Stuyvesant Heights / Stuyvesant Heights                    |10675   |\n",
      "|East New York / Brownsville                                |10621   |\n",
      "|Elmhurst / Elmhurst                                        |10604   |\n",
      "|Soundview/Castle Hill / Soundview/Castle Hill              |10519   |\n",
      "|Central Harlem North / Central Harlem                      |10304   |\n",
      "|Central Harlem / Central Harlem North                      |10260   |\n",
      "|Bedford / Crown Heights North                              |10185   |\n",
      "|Crown Heights North / Bedford                              |10181   |\n",
      "|Washington Heights South / Washington Heights South        |10165   |\n",
      "|Woodlawn/Wakefield / NA                                    |10091   |\n",
      "|Park Slope / Park Slope                                    |9771    |\n",
      "|East New York/Pennsylvania Avenue / East New York          |9748    |\n",
      "|Astoria / Steinway                                         |9465    |\n",
      "|Ridgewood / Ridgewood                                      |9425    |\n",
      "|East New York / Canarsie                                   |9338    |\n",
      "|Flatlands / Flatlands                                      |9331    |\n",
      "|South Jamaica / Jamaica                                    |9288    |\n",
      "|East New York / East New York/Pennsylvania Avenue          |9162    |\n",
      "|Steinway / Astoria                                         |8963    |\n",
      "|Williamsbridge/Olinville / Williamsbridge/Olinville        |8931    |\n",
      "|East Harlem North / East Harlem South                      |8910    |\n",
      "|Bushwick South / Stuyvesant Heights                        |8822    |\n",
      "|Central Harlem North / East Harlem North                   |8662    |\n",
      "|Stuyvesant Heights / Bedford                               |8654    |\n",
      "|Bedford / Stuyvesant Heights                               |8614    |\n",
      "|Saint Albans / Saint Albans                                |8602    |\n",
      "|Jamaica / Jamaica                                          |8588    |\n",
      "|Stuyvesant Heights / Bushwick South                        |8573    |\n",
      "|East Harlem North / East Harlem North                      |8573    |\n",
      "|Washington Heights North / Washington Heights South        |8489    |\n",
      "|East Harlem South / East Harlem North                      |8445    |\n",
      "|Jackson Heights / Elmhurst                                 |8418    |\n",
      "|Washington Heights South / Washington Heights North        |8409    |\n",
      "|East Harlem North / Central Harlem North                   |8120    |\n",
      "|Far Rockaway / Far Rockaway                                |8104    |\n",
      "|Brownsville / Crown Heights North                          |8073    |\n",
      "|Homecrest / Homecrest                                      |8039    |\n",
      "|Steinway / Steinway                                        |7934    |\n",
      "|Elmhurst / Jackson Heights                                 |7921    |\n",
      "|Crown Heights North / Brownsville                          |7784    |\n",
      "|Sunset Park West / Sunset Park West                        |7710    |\n",
      "|Greenpoint / Greenpoint                                    |7619    |\n",
      "|East Flatbush/Remsen Village / Crown Heights North         |7606    |\n",
      "|East Flatbush/Remsen Village / East Flatbush/Remsen Village|7603    |\n",
      "|Jamaica / South Jamaica                                    |7559    |\n",
      "|Bushwick North / Bushwick North                            |7527    |\n",
      "|Ridgewood / Bushwick North                                 |7525    |\n",
      "|Cypress Hills / East New York                              |7520    |\n",
      "|Williamsbridge/Olinville / NA                              |7508    |\n",
      "|Flatlands / Canarsie                                       |7498    |\n",
      "|Bushwick North / Ridgewood                                 |7420    |\n",
      "|Ocean Hill / Crown Heights North                           |7368    |\n",
      "|Williamsburg (North Side) / Greenpoint                     |7365    |\n",
      "|East Flatbush/Remsen Village / Canarsie                    |7365    |\n",
      "|East New York / Cypress Hills                              |7363    |\n",
      "|Crown Heights South / Crown Heights North                  |7354    |\n",
      "|Mott Haven/Port Morris / Mott Haven/Port Morris            |7317    |\n",
      "|Canarsie / East Flatbush/Remsen Village                    |7296    |\n",
      "|Flatbush/Ditmas Park / Prospect-Lefferts Gardens           |7271    |\n",
      "|Washington Heights North / Washington Heights North        |7201    |\n",
      "|Canarsie / Flatlands                                       |7179    |\n",
      "|Central Harlem / East Harlem North                         |7053    |\n",
      "|Flatlands / Flatbush/Ditmas Park                           |7020    |\n",
      "|Greenpoint / Williamsburg (North Side)                     |6973    |\n",
      "|East Harlem North / Central Harlem                         |6968    |\n",
      "|Prospect-Lefferts Gardens / Flatbush/Ditmas Park           |6943    |\n",
      "|Bushwick South / Bedford                                   |6937    |\n",
      "|Sunnyside / Sunnyside                                      |6930    |\n",
      "|Hammels/Arverne / Hammels/Arverne                          |6925    |\n",
      "|Crown Heights North / Crown Heights South                  |6889    |\n",
      "|Crown Heights North / Ocean Hill                           |6849    |\n",
      "|Bedford / Bushwick South                                   |6833    |\n",
      "|Astoria / Old Astoria                                      |6810    |\n",
      "|Bushwick South / Crown Heights North                       |6739    |\n",
      "|Crown Heights North / Bushwick South                       |6727    |\n",
      "|Bay Ridge / Sunset Park West                               |6714    |\n",
      "|South Williamsburg / South Williamsburg                    |6670    |\n",
      "|Crown Heights North / East Flatbush/Remsen Village         |6649    |\n",
      "|Saint Albans / Jamaica                                     |6608    |\n",
      "|Sunset Park West / Bay Ridge                               |6600    |\n",
      "|LaGuardia Airport / NA                                     |6585    |\n",
      "|Old Astoria / Astoria                                      |6573    |\n",
      "|Flushing / Flushing                                        |6558    |\n",
      "|Richmond Hill / Richmond Hill                              |6548    |\n",
      "|Sheepshead Bay / Sheepshead Bay                            |6548    |\n",
      "|Midwood / Midwood                                          |6507    |\n",
      "|Bedford / South Williamsburg                               |6487    |\n",
      "|Richmond Hill / South Ozone Park                           |6399    |\n",
      "|Saint George/New Brighton / Saint George/New Brighton      |6327    |\n",
      "|Sunnyside / Astoria                                        |6313    |\n",
      "|Bushwick South / Ridgewood                                 |6295    |\n",
      "|Co-Op City / Co-Op City                                    |6288    |\n",
      "|Brownsville / East Flatbush/Remsen Village                 |6273    |\n",
      "|South Ozone Park / Richmond Hill                           |6271    |\n",
      "|Rosedale / NA                                              |6252    |\n",
      "|Central Harlem North / Hamilton Heights                    |6235    |\n",
      "|Far Rockaway / NA                                          |6228    |\n",
      "|Flatbush/Ditmas Park / Flatlands                           |6223    |\n",
      "|East Flatbush/Remsen Village / Brownsville                 |6175    |\n",
      "|Mott Haven/Port Morris / Melrose South                     |6140    |\n",
      "|Crown Heights North / East New York                        |6107    |\n",
      "|Ridgewood / Bushwick South                                 |6100    |\n",
      "|East Williamsburg / Bushwick South                         |6080    |\n",
      "|Coney Island / Coney Island                                |6002    |\n",
      "|Bushwick South / East Williamsburg                         |5943    |\n",
      "|Melrose South / Mott Haven/Port Morris                     |5922    |\n",
      "|Central Harlem North / Washington Heights South            |5907    |\n",
      "|East Flatbush/Farragut / East Flatbush/Farragut            |5860    |\n",
      "|Bensonhurst West / Bensonhurst West                        |5852    |\n",
      "|Williamsburg (North Side) / Williamsburg (South Side)      |5824    |\n",
      "|Flatbush/Ditmas Park / East Flatbush/Farragut              |5820    |\n",
      "|Brownsville / Ocean Hill                                   |5793    |\n",
      "|East Flatbush/Farragut / Prospect-Lefferts Gardens         |5790    |\n",
      "|Astoria / Sunnyside                                        |5760    |\n",
      "|Williamsburg (South Side) / Williamsburg (North Side)      |5734    |\n",
      "|Park Slope / Crown Heights North                           |5729    |\n",
      "|East Flatbush/Remsen Village / East New York               |5676    |\n",
      "|Hamilton Heights / Washington Heights South                |5673    |\n",
      "|East Flatbush/Remsen Village / Prospect-Lefferts Gardens   |5659    |\n",
      "|East Flatbush/Farragut / Flatbush/Ditmas Park              |5647    |\n",
      "|Norwood / NA                                               |5635    |\n",
      "|Prospect-Lefferts Gardens / Crown Heights South            |5617    |\n",
      "|South Williamsburg / Bedford                               |5591    |\n",
      "|Upper East Side South / Upper East Side North              |5583    |\n",
      "|Hamilton Heights / Central Harlem North                    |5575    |\n",
      "|Stuyvesant Heights / Bushwick North                        |5575    |\n",
      "+-----------------------------------------------------------+--------+\n",
      "only showing top 150 rows\n",
      "\n"
     ]
    },
    {
     "name": "stderr",
     "output_type": "stream",
     "text": [
      "                                                                                \r"
     ]
    }
   ],
   "source": [
    "joined.show(150, False)"
   ]
  }
 ],
 "metadata": {
  "interpreter": {
   "hash": "2b5d6604168a9ecc0a5dc384cc9e3559fc5c99c59e9548b3adff917872d705f1"
  },
  "kernelspec": {
   "display_name": "Python 3.9.1 64-bit ('3.9.1')",
   "language": "python",
   "name": "python3"
  },
  "language_info": {
   "codemirror_mode": {
    "name": "ipython",
    "version": 3
   },
   "file_extension": ".py",
   "mimetype": "text/x-python",
   "name": "python",
   "nbconvert_exporter": "python",
   "pygments_lexer": "ipython3",
   "version": "3.9.1"
  },
  "orig_nbformat": 4
 },
 "nbformat": 4,
 "nbformat_minor": 2
}
